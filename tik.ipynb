{
 "cells": [
  {
   "cell_type": "code",
   "execution_count": 2,
   "id": "116ff278",
   "metadata": {},
   "outputs": [
    {
     "data": {
      "text/plain": [
       "'0.9.0'"
      ]
     },
     "execution_count": 2,
     "metadata": {},
     "output_type": "execute_result"
    }
   ],
   "source": [
    "# i modelli autoregressivi gpt (Generative Pre Trained ) usano uno schema di tokenizzazione più \n",
    "# soffisticato chiamato codifica a coppia di Byte con l'acronimo BPE e utilizziamo la libereria tiktoken che implementa l'algoritmo BPE\n",
    "\n",
    "\"\"\"Importiamo la libreria Tiktoken\"\"\"\n",
    "import tiktoken\n",
    "\"\"\"Vediamo la versione corrente\"\"\"\n",
    "tiktoken.__version__"
   ]
  },
  {
   "cell_type": "code",
   "execution_count": 3,
   "id": "c5dc0766",
   "metadata": {},
   "outputs": [],
   "source": [
    "#Creiamo l'oggetto\n",
    "tokenizer = tiktoken.get_encoding(\"gpt2\")"
   ]
  },
  {
   "cell_type": "code",
   "execution_count": 4,
   "id": "a3fe33e0",
   "metadata": {},
   "outputs": [
    {
     "data": {
      "text/plain": [
       "'Hello World'"
      ]
     },
     "execution_count": 4,
     "metadata": {},
     "output_type": "execute_result"
    }
   ],
   "source": [
    "#L'input che verra tokenizzato\n",
    "frase  =  \"Hello World\"\n",
    "frase"
   ]
  },
  {
   "cell_type": "code",
   "execution_count": 5,
   "id": "e2ec6bd8",
   "metadata": {},
   "outputs": [
    {
     "data": {
      "text/plain": [
       "[15496, 2159]"
      ]
     },
     "execution_count": 5,
     "metadata": {},
     "output_type": "execute_result"
    }
   ],
   "source": [
    "#Codifichiamo l'input in vettori\n",
    "string_to_id = tokenizer.encode(frase)\n",
    "string_to_id"
   ]
  },
  {
   "cell_type": "code",
   "execution_count": 6,
   "id": "0fbbae1e",
   "metadata": {},
   "outputs": [
    {
     "data": {
      "text/plain": [
       "'Hello World'"
      ]
     },
     "execution_count": 6,
     "metadata": {},
     "output_type": "execute_result"
    }
   ],
   "source": [
    "#Decodifichiamo il vettore in testo\n",
    "id_to_tring= tokenizer.decode(string_to_id)\n",
    "id_to_tring"
   ]
  },
  {
   "cell_type": "code",
   "execution_count": 7,
   "id": "70a410b3",
   "metadata": {},
   "outputs": [],
   "source": [
    "import keras\n",
    "\n",
    "path = keras.utils.get_file(\n",
    "    'romeo-and-juliet_TXT_FolgerShakespeare.txt',\n",
    "    origin='https://folger-main-site-assets.s3.amazonaws.com/uploads/2022/11/romeo-and-juliet_TXT_FolgerShakespeare.txt' \n",
    "    \n",
    ")\n",
    "text = open(path, encoding='utf-8').read().lower()\n"
   ]
  },
  {
   "cell_type": "code",
   "execution_count": 8,
   "id": "a07faf5e",
   "metadata": {},
   "outputs": [],
   "source": [
    "tokn = tiktoken.get_encoding('gpt2')\n",
    "maxlen = 20\n",
    "step = 2\n",
    "text_sample = text[:200]\n",
    "encode = tokn.encode(text_sample)\n"
   ]
  },
  {
   "cell_type": "code",
   "execution_count": null,
   "id": "2a545701",
   "metadata": {},
   "outputs": [],
   "source": [
    "for i in range(0 , len(encode) - maxlen , step):\n",
    "    print(encode[i:i+maxlen])\n",
    "    print(encode[i + maxlen - 1 : i + maxlen + 1])\n",
    "    print(\"\"*50)\n",
    "    input = encode[i : i + maxlen]\n",
    "    output = encode[i + maxlen]\n",
    "    print(tokn.decode(input) , \"=========>\" , tokn.decode([output]))"
   ]
  }
 ],
 "metadata": {
  "kernelspec": {
   "display_name": "Python 3",
   "language": "python",
   "name": "python3"
  },
  "language_info": {
   "codemirror_mode": {
    "name": "ipython",
    "version": 3
   },
   "file_extension": ".py",
   "mimetype": "text/x-python",
   "name": "python",
   "nbconvert_exporter": "python",
   "pygments_lexer": "ipython3",
   "version": "3.12.5"
  }
 },
 "nbformat": 4,
 "nbformat_minor": 5
}
