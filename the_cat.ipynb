{
 "cells": [
  {
   "cell_type": "code",
   "execution_count": null,
   "id": "7bee821c",
   "metadata": {},
   "outputs": [
    {
     "name": "stdout",
     "output_type": "stream",
     "text": [
      "table\n"
     ]
    }
   ],
   "source": [
    "import numpy as np\n",
    "import tensorflow as tf\n",
    "from tensorflow.keras.preprocessing.text import Tokenizer\n",
    "from tensorflow.keras.preprocessing.sequence import pad_sequences\n",
    "from tensorflow.keras.models import Sequential\n",
    "from tensorflow.keras.layers import Embedding, LSTM, Dense\n",
    "\n",
    "\n",
    "text = \"the cat is on the table\"\n",
    "tokenizer = Tokenizer(num_words=1000 , oov_token='<OOV>')\n",
    "tokenizer.fit_on_texts([text])\n",
    "word = text.split()\n",
    "classes = len(tokenizer.word_index) + 1\n",
    "\n",
    "input_seq = []\n",
    "for i in range(1 , len(word)):\n",
    "    sequences = tokenizer.texts_to_sequences([\" \".join(word[:i+1])])[0]\n",
    "    input_seq.append(sequences)\n",
    "\n",
    "\n",
    "max_seq_len = max(len(seq) for seq in input_seq)\n",
    "input_seq = pad_sequences(input_seq , maxlen=max_seq_len,padding = 'pre')\n",
    "x  = input_seq[ : ,:-1] \n",
    "y = input_seq[: , -1]\n",
    "\n",
    "y = tf.keras.utils.to_categorical(y , num_classes=classes)\n",
    "\n",
    "model  = Sequential([\n",
    "    Embedding(1000 , output_dim=16),\n",
    "    LSTM(16),\n",
    "    Dense(classes , activation='softmax')\n",
    "])\n",
    "model.compile(loss='categorical_crossentropy' ,optimizer='adam'  , metrics=['accuracy'])\n",
    "model.fit(x , y , epochs=500 , verbose=0)\n",
    "\n",
    "\n",
    "frase  = 'the cat is on the'\n",
    "seq = tokenizer.texts_to_sequences([frase])[0]\n",
    "seq = pad_sequences([seq] , maxlen = x.shape[1] , padding='pre')\n",
    "predict = tokenizer.index_word[np.argmax(model.predict(seq , verbose=0))]\n",
    "print(predict)"
   ]
  },
  {
   "cell_type": "code",
   "execution_count": null,
   "id": "786c1a60",
   "metadata": {},
   "outputs": [],
   "source": []
  },
  {
   "cell_type": "code",
   "execution_count": null,
   "id": "a0be6acd",
   "metadata": {},
   "outputs": [],
   "source": []
  }
 ],
 "metadata": {
  "kernelspec": {
   "display_name": "Python 3",
   "language": "python",
   "name": "python3"
  },
  "language_info": {
   "codemirror_mode": {
    "name": "ipython",
    "version": 3
   },
   "file_extension": ".py",
   "mimetype": "text/x-python",
   "name": "python",
   "nbconvert_exporter": "python",
   "pygments_lexer": "ipython3",
   "version": "3.12.5"
  }
 },
 "nbformat": 4,
 "nbformat_minor": 5
}
