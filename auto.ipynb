{
 "cells": [
  {
   "cell_type": "code",
   "execution_count": 8,
   "id": "62f43394",
   "metadata": {},
   "outputs": [],
   "source": [
    "import torch\n",
    "from torch.utils.data import DataLoader,Dataset\n",
    "import tiktoken\n"
   ]
  },
  {
   "cell_type": "code",
   "execution_count": 3,
   "id": "0cfc09a1",
   "metadata": {},
   "outputs": [
    {
     "data": {
      "text/plain": [
       "'cuda'"
      ]
     },
     "execution_count": 3,
     "metadata": {},
     "output_type": "execute_result"
    }
   ],
   "source": [
    "'cuda' if torch.cuda.is_available() else 'cpu'"
   ]
  },
  {
   "cell_type": "code",
   "execution_count": null,
   "id": "9ab8b04d",
   "metadata": {},
   "outputs": [],
   "source": [
    "class Gpt1Model(Dataset):\n",
    "    def __init__(self , input , tokenizer , maxlen , testo):\n",
    "        super(Gpt1Model , self).__init__()\n",
    "        self.x = []\n",
    "        self.y =  []\n",
    "        self.tokenizer = tokenizer\n",
    "        self.maxlen = maxlen\n",
    "        self.encode = testo\n",
    "        for i in range(0,len(self.encode)  - maxlen ):\n",
    "            seq_input = self.encode[i  :  i  + maxlen] \n",
    "            seq_output  = self.encode[i +  maxlen] \n",
    "            self.x.append(seq_input)\n",
    "            self.y.append(seq_output)\n",
    "    \n",
    "    def __len__(self):\n",
    "        return len(self.x)\n",
    "    \n",
    "    def __getitem__(self, index):\n",
    "        return torch.tensor(self.x[index] , dtype=torch.long) , torch.tensor(self.y[index] , dtype=torch.long)\n",
    "\n"
   ]
  },
  {
   "cell_type": "code",
   "execution_count": 98,
   "id": "b3c8c5d4",
   "metadata": {},
   "outputs": [
    {
     "name": "stdout",
     "output_type": "stream",
     "text": [
      "0\n",
      "input =============> Ciao come va spero tut\n",
      "target ============> to\n",
      "input =============>  come va spero tutto bene\n",
      "target ============>  e\n",
      "input =============> iao come va spero tutto\n",
      "target ============>  bene\n",
      "input =============> anto tempo che non ci sentiam\n",
      "target ============> o\n",
      "1\n",
      "input =============>  tanto tempo che non ci sent\n",
      "target ============> iam\n",
      "input =============>  e da tanto tempo che non c\n",
      "target ============> i\n",
      "input =============> pero tutto bene e da t\n",
      "target ============> anto\n",
      "input =============> to bene e da tanto tempo che\n",
      "target ============>  non\n",
      "2\n",
      "input =============>  da tanto tempo che non ci\n",
      "target ============>  sent\n",
      "input =============>  tutto bene e da tanto tempo\n",
      "target ============>  che\n",
      "input =============>  va spero tutto bene e\n",
      "target ============>  da\n",
      "input =============>  bene e da tanto tempo che non\n",
      "target ============>  c\n"
     ]
    }
   ],
   "source": [
    "\n",
    "input  = \"Ciao come va spero tutto bene e da tanto tempo che non ci sentiamo\"\n",
    "tokenizer = tiktoken.get_encoding('gpt2') \n",
    "encode = tokenizer.encode(input)\n",
    "maxlen = 8\n",
    "dataset = Gpt1Model(input , tokenizer  , maxlen , encode )\n",
    "dataloader  = DataLoader(dataset , batch_size=4 , shuffle=True , drop_last=True )\n",
    "\n",
    "for i,(feature , target) in enumerate(dataloader):\n",
    "    print(i)\n",
    "    for i in range(len(feature)):\n",
    "        input_decoder = feature[i].tolist()\n",
    "        output_decoder  = target[i].tolist()\n",
    "        input_decoder_tok = tokenizer.decode(input_decoder)\n",
    "        output_decoder_tok =  tokenizer.decode([output_decoder])\n",
    "        print('input =============>', input_decoder_tok)\n",
    "        print('target ============>',output_decoder_tok)"
   ]
  }
 ],
 "metadata": {
  "kernelspec": {
   "display_name": "Python 3",
   "language": "python",
   "name": "python3"
  },
  "language_info": {
   "codemirror_mode": {
    "name": "ipython",
    "version": 3
   },
   "file_extension": ".py",
   "mimetype": "text/x-python",
   "name": "python",
   "nbconvert_exporter": "python",
   "pygments_lexer": "ipython3",
   "version": "3.12.5"
  }
 },
 "nbformat": 4,
 "nbformat_minor": 5
}
